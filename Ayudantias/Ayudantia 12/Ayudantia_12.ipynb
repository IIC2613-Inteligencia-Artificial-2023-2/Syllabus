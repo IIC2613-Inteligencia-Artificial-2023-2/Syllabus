{
  "cells": [
    {
      "cell_type": "markdown",
      "metadata": {
        "id": "ISR2q-I6Pt7x"
      },
      "source": [
        "# **Ayudantía 12 - Redes Neuronales**"
      ]
    },
    {
      "cell_type": "markdown",
      "metadata": {
        "id": "aXgaMS-PLlzj"
      },
      "source": [
        "<hr>"
      ]
    },
    {
      "cell_type": "markdown",
      "metadata": {
        "id": "ksQE_c8LLhuT"
      },
      "source": [
        "## **Librerías y carga de datos**:"
      ]
    },
    {
      "cell_type": "markdown",
      "metadata": {
        "id": "wHn5zWcHQk-l"
      },
      "source": [
        "Primero que todo importamos las librerías que utilizaremos a lo largo de la ayudantía."
      ]
    },
    {
      "cell_type": "code",
      "execution_count": null,
      "metadata": {
        "id": "TvziTZo4Pm9x"
      },
      "outputs": [],
      "source": [
        "# Importamos las librerías de siempre\n",
        "import pandas as pd\n",
        "import numpy as np\n",
        "import matplotlib.pyplot as plt\n",
        "import seaborn as sns"
      ]
    },
    {
      "cell_type": "markdown",
      "metadata": {
        "id": "jShDf_s7QsyS"
      },
      "source": [
        "Ahora importamos las librerías que nos permitirán hacer nuestras redes neuronales. "
      ]
    },
    {
      "cell_type": "code",
      "execution_count": null,
      "metadata": {
        "id": "mO6A1DjbRDaX"
      },
      "outputs": [],
      "source": [
        "# Primero importamos tensorflow \n",
        "import tensorflow as tf\n",
        "\n",
        "# Luego importamos keras desde tensorflow\n",
        "import tensorflow.keras as keras\n",
        "\n",
        "# Ahora importamos los modelos y las capas necesarias\n",
        "from tensorflow.keras.models import Sequential\n",
        "from tensorflow.keras.layers import Dense, Activation, Dropout, Flatten\n",
        "\n",
        "# Importamos el callback que usaremos\n",
        "from tensorflow.keras.callbacks import EarlyStopping\n",
        "\n",
        "# Importamos una función para convertir los índices por clase a etiquetas de vectores one-hot\n",
        "from tensorflow.keras.utils import to_categorical\n",
        "\n",
        "# Importamos la librería de donde obtendremos la base de datos que utilizaremos\n",
        "from tensorflow.keras.datasets import fashion_mnist"
      ]
    },
    {
      "cell_type": "markdown",
      "metadata": {
        "id": "HVoGlPVBD_Tb"
      },
      "source": [
        "Teniendo listas las librerías, pasamos a cargar la base de datos.\n",
        "\n",
        "Los datos que se utilizarán en esta ayudantía se llaman [fashionMNIST](https://keras.io/api/datasets/fashion_mnist/) y los podemos usar desde keras. Los datos contienen distintas imágenes de 28x28 pixeles y en blanco y negro, que se pueden clasificar en 10 classes distintas, estas clases son: `T-shirt/top`, `Trouser`, `Pullover`, `Dress`, `Coat`, `Sandal`, `Sneaker`, `Bag`, `Ankle boot`.\n",
        "\n",
        "<img src=\"https://miro.medium.com/max/674/1*XRabSYooUaZsUR044bYdxw.jpeg\">"
      ]
    },
    {
      "cell_type": "code",
      "execution_count": null,
      "metadata": {
        "id": "Iw51K6OwuTGh"
      },
      "outputs": [],
      "source": [
        "# Cargamos el dataset\n",
        "(X_train, y_train), (X_test, y_test) = fashion_mnist.load_data()"
      ]
    },
    {
      "cell_type": "code",
      "execution_count": null,
      "metadata": {
        "colab": {
          "base_uri": "https://localhost:8080/"
        },
        "id": "61vMeqY8uxn3",
        "outputId": "bd06d9a9-e107-4d09-9c10-9a8b5c8c4d5d"
      },
      "outputs": [
        {
          "name": "stdout",
          "output_type": "stream",
          "text": [
            "\n",
            "La base de datos de entrenamiento tiene 60000 imágenes de 28 x 28\n",
            "\n",
            "La base de datos de testeo tiene 10000 imágenes de 28 x 28\n"
          ]
        }
      ],
      "source": [
        "# Veamos las dimensiones del dataset\n",
        "print(f\"\\nLa base de datos de entrenamiento tiene {X_train.shape[0]} imágenes de {X_train.shape[1]} x {X_train.shape[2]}\")\n",
        "print(f\"\\nLa base de datos de testeo tiene {X_test.shape[0]} imágenes de {X_test.shape[1]} x {X_test.shape[2]}\")"
      ]
    },
    {
      "cell_type": "markdown",
      "metadata": {
        "id": "-HFAZLtDGasp"
      },
      "source": [
        "Se puede notar que no hay una base de validación, que es indispensable cuando trabajamos con redes neuronales. Entonces lo que haremos será tomar un porcentaje de nuestra base de entrenamiento para crear esta base."
      ]
    },
    {
      "cell_type": "code",
      "execution_count": null,
      "metadata": {
        "id": "pA3CU21bHDX-"
      },
      "outputs": [],
      "source": [
        "# Creamos una base de validación desde la base de entrenamiento\n",
        "\n",
        "# Tomamos las primeras 5.000 imágenes\n",
        "X_valid = X_train[:5000]\n",
        "\n",
        "# Ahora debemos dejar la base de entrenamiento sin esas 5.000 imágenes\n",
        "X_train = X_train[5000:]\n",
        "\n",
        "# Hacemos lo mismo para la variable respuesta\n",
        "y_valid = y_train[:5000]\n",
        "y_train = y_train[5000:]"
      ]
    },
    {
      "cell_type": "markdown",
      "metadata": {
        "id": "5vFOID-2IliN"
      },
      "source": [
        "Los valores de los pixeles están entre 0 y 255 así que los reescalaremos a valores entre 0 y 1. Para hacer esto solamente debemos dividir por 255."
      ]
    },
    {
      "cell_type": "code",
      "execution_count": null,
      "metadata": {
        "id": "x932YjWuIlOS"
      },
      "outputs": [],
      "source": [
        "# Normalizamos al rango [0, 1] cada pixel de cada imagen de las 3 bases\n",
        "X_train, X_test, X_valid = X_train / 255, X_test / 255, X_valid / 255"
      ]
    },
    {
      "cell_type": "markdown",
      "metadata": {
        "id": "fxGkc7IzMrMB"
      },
      "source": [
        "Ahora convertimos la variable respuesta en vectores one-hot:"
      ]
    },
    {
      "cell_type": "code",
      "execution_count": null,
      "metadata": {
        "colab": {
          "base_uri": "https://localhost:8080/"
        },
        "id": "_yscQHMENTjY",
        "outputId": "45c9deca-37a7-47d7-af80-edfcdb7bdf35"
      },
      "outputs": [
        {
          "name": "stdout",
          "output_type": "stream",
          "text": [
            "\n",
            "La variable respuesta se veía de así: [4 0 7 9 9 9 4 4 3 4]\n",
            "\n",
            "Ahora variable respuesta se ve así: \n",
            " [[0. 0. 0. 0. 1. 0. 0. 0. 0. 0.]\n",
            " [1. 0. 0. 0. 0. 0. 0. 0. 0. 0.]\n",
            " [0. 0. 0. 0. 0. 0. 0. 1. 0. 0.]\n",
            " [0. 0. 0. 0. 0. 0. 0. 0. 0. 1.]\n",
            " [0. 0. 0. 0. 0. 0. 0. 0. 0. 1.]\n",
            " [0. 0. 0. 0. 0. 0. 0. 0. 0. 1.]\n",
            " [0. 0. 0. 0. 1. 0. 0. 0. 0. 0.]\n",
            " [0. 0. 0. 0. 1. 0. 0. 0. 0. 0.]\n",
            " [0. 0. 0. 1. 0. 0. 0. 0. 0. 0.]\n",
            " [0. 0. 0. 0. 1. 0. 0. 0. 0. 0.]]\n"
          ]
        }
      ],
      "source": [
        "# Veamos como se veía \"y\" antes\n",
        "print(f\"\\nLa variable respuesta se veía de así: {y_train[0:10]}\")\n",
        "\n",
        "# Convertimos \"y\"\n",
        "y_train = to_categorical(y_train)\n",
        "y_test = to_categorical(y_test)\n",
        "y_valid = to_categorical(y_valid)\n",
        "\n",
        "# Veamos como se ve \"y\" ahora\n",
        "print(f\"\\nAhora variable respuesta se ve así: \\n {y_train[0:10]}\")\n"
      ]
    },
    {
      "cell_type": "markdown",
      "metadata": {
        "id": "2c_2azZ4J52F"
      },
      "source": [
        "Lo último que debemos hacer es crear una lista que contenga los nombres de cada clase de ropa, pues los valores de y están en formato numérico y luego de clasificar necesitamos saber que tipo de ropa es la que estamos clasificando. \n",
        "\n",
        "Por ejemplo entonces, cuando la red prediga un 3 significa que predijo que la imagen era un `Dress`."
      ]
    },
    {
      "cell_type": "code",
      "execution_count": null,
      "metadata": {
        "id": "5OEdDZD7JyZE"
      },
      "outputs": [],
      "source": [
        "# Creamos la lista\n",
        "class_names = [\"T-shirt/top\", \"Trouser\", \"Pullover\", \"Dress\", \"Coat\", \"Sandal\", \"Sneaker\", \"Bag\", \"Ankle boot\"]"
      ]
    },
    {
      "cell_type": "markdown",
      "metadata": {
        "id": "Hkw_GAUNPviG"
      },
      "source": [
        "Es importante notar que la red recibirá vectores, y nosotros tenemos \"matrices\" que representan imágenes de 28x28 pixeles, por lo que debemos aplanar cada imágen para que estas sean de 784 (28 x 28). Esto lo haremos en la primera capa de la red neuronal.\n",
        "\n",
        "Si quisieran hacerlo manualmente en vez de que lo haga la primera capa, pueden usar lo siguiente:"
      ]
    },
    {
      "cell_type": "code",
      "execution_count": null,
      "metadata": {
        "colab": {
          "base_uri": "https://localhost:8080/"
        },
        "id": "gJ9iZmDiQ66V",
        "outputId": "4580022c-1ca3-4c10-d0aa-4af6de28a8e4"
      },
      "outputs": [
        {
          "name": "stdout",
          "output_type": "stream",
          "text": [
            "\n",
            " Las nuevas dimensiones de las imágenes son:\n",
            "\n",
            " X_train: (55000, 784)\n",
            "\n",
            " X_test: (10000, 784)\n",
            "\n",
            " X_valid: (5000, 784)\n"
          ]
        }
      ],
      "source": [
        "# Opción alternativa de redimensión de la imagen (no se usará esta vez)\n",
        "X_train_new = X_train.reshape(X_train.shape[0], 784)\n",
        "X_test_new = X_test.reshape(X_test.shape[0], 784)\n",
        "X_valid_new = X_valid.reshape(X_valid.shape[0], 784)\n",
        "\n",
        "# Mostramos como quedan:\n",
        "print(f\"\\n Las nuevas dimensiones de las imágenes son:\")\n",
        "print(f\"\\n X_train: {X_train_new.shape}\")\n",
        "print(f\"\\n X_test: {X_test_new.shape}\")\n",
        "print(f\"\\n X_valid: {X_valid_new.shape}\")"
      ]
    },
    {
      "cell_type": "markdown",
      "metadata": {
        "id": "1e36GoJoKumA"
      },
      "source": [
        "<hr>"
      ]
    },
    {
      "cell_type": "markdown",
      "metadata": {
        "id": "b_ek2-qSLsRS"
      },
      "source": [
        "## **Red neuronal**:"
      ]
    },
    {
      "cell_type": "markdown",
      "metadata": {
        "id": "9E_Kn0t7OK8k"
      },
      "source": [
        "Ahora que tenemos todo el pre-procesamiento listo, pasamos a crear nuestra primera red neuronal.\n",
        "\n",
        "<img src=\"https://upload.wikimedia.org/wikipedia/commons/c/c2/MultiLayerNeuralNetworkBigger_english.png\">"
      ]
    },
    {
      "cell_type": "code",
      "execution_count": null,
      "metadata": {
        "colab": {
          "base_uri": "https://localhost:8080/"
        },
        "id": "_egHH1BKLVYq",
        "outputId": "8d431c23-15e6-40ac-9c33-dad01404df71"
      },
      "outputs": [
        {
          "name": "stdout",
          "output_type": "stream",
          "text": [
            "Model: \"sequential_10\"\n",
            "_________________________________________________________________\n",
            " Layer (type)                Output Shape              Param #   \n",
            "=================================================================\n",
            " flatten_10 (Flatten)        (None, 784)               0         \n",
            "                                                                 \n",
            " dense_34 (Dense)            (None, 300)               235500    \n",
            "                                                                 \n",
            " activation_22 (Activation)  (None, 300)               0         \n",
            "                                                                 \n",
            " dense_35 (Dense)            (None, 100)               30100     \n",
            "                                                                 \n",
            " activation_23 (Activation)  (None, 100)               0         \n",
            "                                                                 \n",
            " dense_36 (Dense)            (None, 10)                1010      \n",
            "                                                                 \n",
            " activation_24 (Activation)  (None, 10)                0         \n",
            "                                                                 \n",
            "=================================================================\n",
            "Total params: 266,610\n",
            "Trainable params: 266,610\n",
            "Non-trainable params: 0\n",
            "_________________________________________________________________\n"
          ]
        }
      ],
      "source": [
        "# Primero debemos definir el modelo\n",
        "model = Sequential()\n",
        "\n",
        "# Agregamos la primera capa (input layer). A esta debemos agregarle las dimensiones \n",
        "model.add(Flatten(input_shape = [28, 28]))\n",
        "\n",
        "################################################################################################\n",
        "# Si se prefiere hacer de la manera alternativa, la primera capa sería la siguiente:\n",
        "# model.add(Input(shape = 784))\n",
        "# Aunque también podría ser una capa densa con el parámetro input_shape = 784.\n",
        "# Ojo que si se decide hacer esto, a la hora de entrenar deben usarse las bases redimensionadas\n",
        "################################################################################################\n",
        "\n",
        "# Primera hidden layer:\n",
        "model.add(Dense(300))\n",
        "model.add(Activation(\"relu\"))\n",
        "\n",
        "# Segunda hidden layer:\n",
        "model.add(Dense(100))\n",
        "model.add(Activation(\"relu\"))\n",
        "\n",
        "# Capa de output:\n",
        "# Hacemos la capa de output con 10 neuronas pues nuestro output es de 10 clases.\n",
        "# Notar también que la función de activación es \"softmax\" pues son varias clases y estas son excluyentes entre sí.\n",
        "model.add(Dense(10))\n",
        "model.add(Activation(\"softmax\"))\n",
        "\n",
        "# Por último mostramos un resumen del modelo\n",
        "model.summary() "
      ]
    },
    {
      "cell_type": "code",
      "execution_count": null,
      "metadata": {
        "colab": {
          "base_uri": "https://localhost:8080/"
        },
        "id": "mc5wP6CPUxBU",
        "outputId": "4ff94ab7-09e3-47ed-b139-8437fc1e7a6d"
      },
      "outputs": [
        {
          "name": "stdout",
          "output_type": "stream",
          "text": [
            "Model: \"sequential_11\"\n",
            "_________________________________________________________________\n",
            " Layer (type)                Output Shape              Param #   \n",
            "=================================================================\n",
            " flatten_11 (Flatten)        (None, 784)               0         \n",
            "                                                                 \n",
            " dense_37 (Dense)            (None, 300)               235500    \n",
            "                                                                 \n",
            " dense_38 (Dense)            (None, 100)               30100     \n",
            "                                                                 \n",
            " dense_39 (Dense)            (None, 10)                1010      \n",
            "                                                                 \n",
            "=================================================================\n",
            "Total params: 266,610\n",
            "Trainable params: 266,610\n",
            "Non-trainable params: 0\n",
            "_________________________________________________________________\n"
          ]
        }
      ],
      "source": [
        "# En vez de agregar las capas una por una, podemos entregar una lista de capas cuando creamos el modelo:\n",
        "model = Sequential([\n",
        "    Flatten(input_shape = [28, 28]),\n",
        "    Dense(300, activation = \"relu\"),\n",
        "    Dense(100, activation = \"relu\"),\n",
        "    Dense(10, activation = \"softmax\")\n",
        "])\n",
        "\n",
        "# Es equivalente a lo anterior, y se nota en el summary\n",
        "model.summary()"
      ]
    },
    {
      "cell_type": "markdown",
      "metadata": {
        "id": "xH0rYC77iAK1"
      },
      "source": [
        "### **Optimizador SGD**: "
      ]
    },
    {
      "cell_type": "code",
      "execution_count": null,
      "metadata": {
        "colab": {
          "base_uri": "https://localhost:8080/"
        },
        "id": "J9WILFtBOXvw",
        "outputId": "58c4af58-06bf-4ca4-c589-13aa19d657f2"
      },
      "outputs": [
        {
          "name": "stdout",
          "output_type": "stream",
          "text": [
            "Epoch 1/30\n",
            "215/215 [==============================] - 3s 12ms/step - loss: 1.3303 - accuracy: 0.6166 - val_loss: 0.8740 - val_accuracy: 0.7310\n",
            "Epoch 2/30\n",
            "215/215 [==============================] - 2s 11ms/step - loss: 0.7798 - accuracy: 0.7489 - val_loss: 0.6895 - val_accuracy: 0.7732\n",
            "Epoch 3/30\n",
            "215/215 [==============================] - 2s 11ms/step - loss: 0.6622 - accuracy: 0.7797 - val_loss: 0.6109 - val_accuracy: 0.8006\n",
            "Epoch 4/30\n",
            "215/215 [==============================] - 2s 11ms/step - loss: 0.6028 - accuracy: 0.7989 - val_loss: 0.5750 - val_accuracy: 0.8092\n",
            "Epoch 5/30\n",
            "215/215 [==============================] - 2s 11ms/step - loss: 0.5659 - accuracy: 0.8097 - val_loss: 0.5368 - val_accuracy: 0.8242\n",
            "Epoch 6/30\n",
            "215/215 [==============================] - 2s 11ms/step - loss: 0.5389 - accuracy: 0.8182 - val_loss: 0.5174 - val_accuracy: 0.8286\n",
            "Epoch 7/30\n",
            "215/215 [==============================] - 2s 11ms/step - loss: 0.5194 - accuracy: 0.8235 - val_loss: 0.4996 - val_accuracy: 0.8328\n",
            "Epoch 8/30\n",
            "215/215 [==============================] - 2s 11ms/step - loss: 0.5038 - accuracy: 0.8272 - val_loss: 0.4874 - val_accuracy: 0.8404\n",
            "Epoch 9/30\n",
            "215/215 [==============================] - 2s 11ms/step - loss: 0.4906 - accuracy: 0.8318 - val_loss: 0.4757 - val_accuracy: 0.8410\n",
            "Epoch 10/30\n",
            "215/215 [==============================] - 2s 11ms/step - loss: 0.4797 - accuracy: 0.8348 - val_loss: 0.4702 - val_accuracy: 0.8414\n",
            "Epoch 11/30\n",
            "215/215 [==============================] - 2s 11ms/step - loss: 0.4706 - accuracy: 0.8374 - val_loss: 0.4590 - val_accuracy: 0.8460\n",
            "Epoch 12/30\n",
            "215/215 [==============================] - 2s 11ms/step - loss: 0.4627 - accuracy: 0.8400 - val_loss: 0.4583 - val_accuracy: 0.8438\n",
            "Epoch 13/30\n",
            "215/215 [==============================] - 2s 11ms/step - loss: 0.4559 - accuracy: 0.8426 - val_loss: 0.4436 - val_accuracy: 0.8500\n",
            "Epoch 14/30\n",
            "215/215 [==============================] - 2s 11ms/step - loss: 0.4498 - accuracy: 0.8434 - val_loss: 0.4438 - val_accuracy: 0.8504\n",
            "Epoch 15/30\n",
            "215/215 [==============================] - 2s 11ms/step - loss: 0.4443 - accuracy: 0.8452 - val_loss: 0.4409 - val_accuracy: 0.8490\n",
            "Epoch 16/30\n",
            "215/215 [==============================] - 2s 11ms/step - loss: 0.4382 - accuracy: 0.8480 - val_loss: 0.4329 - val_accuracy: 0.8550\n",
            "Epoch 17/30\n",
            "215/215 [==============================] - 2s 11ms/step - loss: 0.4338 - accuracy: 0.8488 - val_loss: 0.4261 - val_accuracy: 0.8564\n",
            "Epoch 18/30\n",
            "215/215 [==============================] - 2s 11ms/step - loss: 0.4280 - accuracy: 0.8519 - val_loss: 0.4245 - val_accuracy: 0.8566\n",
            "Epoch 19/30\n",
            "215/215 [==============================] - 2s 11ms/step - loss: 0.4248 - accuracy: 0.8530 - val_loss: 0.4198 - val_accuracy: 0.8594\n",
            "Epoch 20/30\n",
            "215/215 [==============================] - 2s 11ms/step - loss: 0.4207 - accuracy: 0.8528 - val_loss: 0.4143 - val_accuracy: 0.8582\n",
            "Epoch 21/30\n",
            "215/215 [==============================] - 2s 11ms/step - loss: 0.4173 - accuracy: 0.8551 - val_loss: 0.4161 - val_accuracy: 0.8580\n",
            "Epoch 22/30\n",
            "215/215 [==============================] - 2s 11ms/step - loss: 0.4131 - accuracy: 0.8561 - val_loss: 0.4154 - val_accuracy: 0.8626\n",
            "Epoch 23/30\n",
            "215/215 [==============================] - 2s 11ms/step - loss: 0.4100 - accuracy: 0.8568 - val_loss: 0.4079 - val_accuracy: 0.8640\n",
            "Epoch 24/30\n",
            "215/215 [==============================] - 2s 11ms/step - loss: 0.4072 - accuracy: 0.8582 - val_loss: 0.4074 - val_accuracy: 0.8630\n",
            "Epoch 25/30\n",
            "215/215 [==============================] - 2s 11ms/step - loss: 0.4036 - accuracy: 0.8596 - val_loss: 0.4031 - val_accuracy: 0.8620\n",
            "Epoch 26/30\n",
            "215/215 [==============================] - 2s 11ms/step - loss: 0.4002 - accuracy: 0.8609 - val_loss: 0.3995 - val_accuracy: 0.8610\n",
            "Epoch 27/30\n",
            "215/215 [==============================] - 2s 11ms/step - loss: 0.3971 - accuracy: 0.8619 - val_loss: 0.3996 - val_accuracy: 0.8614\n",
            "Epoch 28/30\n",
            "215/215 [==============================] - 2s 11ms/step - loss: 0.3949 - accuracy: 0.8621 - val_loss: 0.3939 - val_accuracy: 0.8640\n",
            "Epoch 29/30\n",
            "215/215 [==============================] - 2s 11ms/step - loss: 0.3925 - accuracy: 0.8641 - val_loss: 0.3934 - val_accuracy: 0.8658\n",
            "Epoch 30/30\n",
            "215/215 [==============================] - 2s 11ms/step - loss: 0.3898 - accuracy: 0.8642 - val_loss: 0.3967 - val_accuracy: 0.8660\n"
          ]
        }
      ],
      "source": [
        "# Compilamos el modelo utilizand stochastic gradient descent como optimizador y la función de pérdida debe ser categorical crossentropy para este caso de 10 clases distintas\n",
        "model.compile(loss = \"categorical_crossentropy\", optimizer = \"sgd\", metrics = [\"accuracy\"])\n",
        "\n",
        "# Definimos el tamaño de cada batch\n",
        "batch_size = 256\n",
        "\n",
        "# Definimos la cantidad de épocas de entrenamiento\n",
        "epochs = 30\n",
        "\n",
        "# Ajustamos el modelo\n",
        "history = model.fit(X_train, y_train, validation_data = (X_valid, y_valid), epochs = epochs, batch_size = batch_size)"
      ]
    },
    {
      "cell_type": "markdown",
      "metadata": {
        "id": "QLlVym3ZiNKq"
      },
      "source": [
        "### **Optimizador Adam**:"
      ]
    },
    {
      "cell_type": "markdown",
      "metadata": {
        "id": "s-IZnf3-8jQv"
      },
      "source": [
        "Si queremos usar el optimizador adam, solamente debemos cambiar el parámetro dentro de compile."
      ]
    },
    {
      "cell_type": "code",
      "execution_count": null,
      "metadata": {
        "id": "1cpFqQPqiInd"
      },
      "outputs": [],
      "source": [
        "# Compilamos el modelo utilizand adam como optimizador y la función de pérdida debe ser categorical crossentropy para este caso de 10 clases distintas\n",
        "# model.compile(loss = \"categorical_crossentropy\", optimizer = \"adam\", metrics = [\"accuracy\"])\n",
        "\n",
        "# Definimos el tamaño de cada batch\n",
        "#batch_size = 256\n",
        "\n",
        "# Definimos la cantidad de épocas de entrenamiento\n",
        "#epochs = 30\n",
        "\n",
        "# Ajustamos el modelo\n",
        "#history = model.fit(X_train, y_train, validation_data = (X_valid, y_valid), epochs = epochs, batch_size = batch_size)"
      ]
    },
    {
      "cell_type": "markdown",
      "metadata": {
        "id": "Gu_XUpL0i2Ci"
      },
      "source": [
        "### **Desempeño de la red**:\n",
        "\n",
        "Vamos a crear una función para graficar el accuracy y el loss de la base de entrenamiento y la de validación a medida que avanzan las épocas. Con esto podemos notar si nuestra red funciona bien, o si hay presencia de overfitting."
      ]
    },
    {
      "cell_type": "code",
      "execution_count": null,
      "metadata": {
        "id": "BxLZjchdjInA"
      },
      "outputs": [],
      "source": [
        "# Creamos la función\n",
        "def plot_history(history):\n",
        "\n",
        "    # Hacemos una grilla de 2 figuras\n",
        "    fig, axs = plt.subplots(2, figsize = (10, 10))\n",
        "\n",
        "    # Graficamos los accuracy de ambas bases\n",
        "    axs[0].plot(history.history[\"accuracy\"], label = \"Accuracy entrenamiento\")\n",
        "    axs[0].plot(history.history[\"val_accuracy\"], label = \"Accuracy validación\")\n",
        "    axs[0].set_ylabel(\"Accuracy\")\n",
        "    axs[0].legend(loc = \"lower right\")\n",
        "    axs[0].set_title(\"Accuracy por épocas\")\n",
        "\n",
        "    # Graficamos los errores de ambas bases\n",
        "    axs[1].plot(history.history[\"loss\"], label=\"Error entrenamiento\")\n",
        "    axs[1].plot(history.history[\"val_loss\"], label=\"Error validación\")\n",
        "    axs[1].set_ylabel(\"Error\")\n",
        "    axs[1].set_xlabel(\"Época\")\n",
        "    axs[1].legend(loc = \"upper right\")\n",
        "    axs[1].set_title(\"Error por épocas\")\n",
        "\n",
        "    # Mostramos la figura \n",
        "    plt.show()"
      ]
    },
    {
      "cell_type": "code",
      "execution_count": null,
      "metadata": {
        "colab": {
          "base_uri": "https://localhost:8080/",
          "height": 623
        },
        "id": "WAudEb1WkVwM",
        "outputId": "20391956-ae9d-48ba-e4a7-8f1765319b5c"
      },
      "outputs": [
        {
          "data": {
            "image/png": "[encoded data removed]",
            "text/plain": [
              "<Figure size 720x720 with 2 Axes>"
            ]
          },
          "metadata": {
            "needs_background": "light"
          },
          "output_type": "display_data"
        }
      ],
      "source": [
        "# Graficamos los resultados de la red\n",
        "plot_history(history)"
      ]
    },
    {
      "cell_type": "markdown",
      "metadata": {
        "id": "36XpQiLflQae"
      },
      "source": [
        "En general tuvo un muy buen desempeño, pero veamos si podemos aumentar los accuracy y reducir el loss."
      ]
    },
    {
      "cell_type": "markdown",
      "metadata": {
        "id": "MyzcBr6ElZGL"
      },
      "source": [
        "### **Red con más capas**:"
      ]
    },
    {
      "cell_type": "code",
      "execution_count": null,
      "metadata": {
        "colab": {
          "base_uri": "https://localhost:8080/"
        },
        "id": "P7_XWhYZlYfv",
        "outputId": "d4a42747-d0c7-4b4f-9e77-120797352596"
      },
      "outputs": [
        {
          "name": "stdout",
          "output_type": "stream",
          "text": [
            "Model: \"sequential_12\"\n",
            "_________________________________________________________________\n",
            " Layer (type)                Output Shape              Param #   \n",
            "=================================================================\n",
            " flatten_12 (Flatten)        (None, 784)               0         \n",
            "                                                                 \n",
            " dense_40 (Dense)            (None, 300)               235500    \n",
            "                                                                 \n",
            " activation_25 (Activation)  (None, 300)               0         \n",
            "                                                                 \n",
            " dense_41 (Dense)            (None, 300)               90300     \n",
            "                                                                 \n",
            " activation_26 (Activation)  (None, 300)               0         \n",
            "                                                                 \n",
            " dense_42 (Dense)            (None, 300)               90300     \n",
            "                                                                 \n",
            " activation_27 (Activation)  (None, 300)               0         \n",
            "                                                                 \n",
            " dense_43 (Dense)            (None, 500)               150500    \n",
            "                                                                 \n",
            " activation_28 (Activation)  (None, 500)               0         \n",
            "                                                                 \n",
            " dense_44 (Dense)            (None, 10)                5010      \n",
            "                                                                 \n",
            " activation_29 (Activation)  (None, 10)                0         \n",
            "                                                                 \n",
            "=================================================================\n",
            "Total params: 571,610\n",
            "Trainable params: 571,610\n",
            "Non-trainable params: 0\n",
            "_________________________________________________________________\n"
          ]
        }
      ],
      "source": [
        "# Creamos una red con 6 capas:\n",
        "\n",
        "# Primero debemos definir el modelo\n",
        "model_2 = Sequential()\n",
        "\n",
        "# Agregamos la primera capa (input layer).\n",
        "model_2.add(Flatten(input_shape = [28, 28]))\n",
        "\n",
        "# Primera hidden layer:\n",
        "model_2.add(Dense(300))\n",
        "model_2.add(Activation(\"relu\"))\n",
        "\n",
        "# Segunda hidden layer:\n",
        "model_2.add(Dense(300))\n",
        "model_2.add(Activation(\"relu\"))\n",
        "\n",
        "# Tercera hidden layer:\n",
        "model_2.add(Dense(300))\n",
        "model_2.add(Activation(\"relu\"))\n",
        "\n",
        "# Cuarta hidden layer:\n",
        "model_2.add(Dense(500))\n",
        "model_2.add(Activation(\"relu\"))\n",
        "\n",
        "# Capa de output:\n",
        "model_2.add(Dense(10))\n",
        "model_2.add(Activation(\"softmax\"))\n",
        "\n",
        "# Mostramos un resumen del modelo\n",
        "model_2.summary() "
      ]
    },
    {
      "cell_type": "code",
      "execution_count": null,
      "metadata": {
        "colab": {
          "base_uri": "https://localhost:8080/"
        },
        "id": "yvRlPz2ImT17",
        "outputId": "f3d198cb-96be-4a59-faca-b62b11d02005"
      },
      "outputs": [
        {
          "name": "stdout",
          "output_type": "stream",
          "text": [
            "Epoch 1/30\n",
            "215/215 [==============================] - 6s 24ms/step - loss: 0.5392 - accuracy: 0.8074 - val_loss: 0.4092 - val_accuracy: 0.8502\n",
            "Epoch 2/30\n",
            "215/215 [==============================] - 5s 23ms/step - loss: 0.3659 - accuracy: 0.8658 - val_loss: 0.3474 - val_accuracy: 0.8776\n",
            "Epoch 3/30\n",
            "215/215 [==============================] - 5s 23ms/step - loss: 0.3246 - accuracy: 0.8802 - val_loss: 0.3283 - val_accuracy: 0.8794\n",
            "Epoch 4/30\n",
            "215/215 [==============================] - 5s 23ms/step - loss: 0.3005 - accuracy: 0.8883 - val_loss: 0.3354 - val_accuracy: 0.8758\n",
            "Epoch 5/30\n",
            "215/215 [==============================] - 5s 23ms/step - loss: 0.2835 - accuracy: 0.8933 - val_loss: 0.3087 - val_accuracy: 0.8852\n",
            "Epoch 6/30\n",
            "215/215 [==============================] - 5s 23ms/step - loss: 0.2636 - accuracy: 0.9012 - val_loss: 0.3098 - val_accuracy: 0.8884\n",
            "Epoch 7/30\n",
            "215/215 [==============================] - 5s 23ms/step - loss: 0.2572 - accuracy: 0.9031 - val_loss: 0.2941 - val_accuracy: 0.8934\n",
            "Epoch 8/30\n",
            "215/215 [==============================] - 5s 23ms/step - loss: 0.2443 - accuracy: 0.9070 - val_loss: 0.3179 - val_accuracy: 0.8808\n",
            "Epoch 9/30\n",
            "215/215 [==============================] - 5s 23ms/step - loss: 0.2340 - accuracy: 0.9122 - val_loss: 0.2921 - val_accuracy: 0.8980\n",
            "Epoch 10/30\n",
            "215/215 [==============================] - 5s 23ms/step - loss: 0.2195 - accuracy: 0.9162 - val_loss: 0.3072 - val_accuracy: 0.8942\n",
            "Epoch 11/30\n",
            "215/215 [==============================] - 5s 23ms/step - loss: 0.2162 - accuracy: 0.9181 - val_loss: 0.3040 - val_accuracy: 0.8944\n",
            "Epoch 12/30\n",
            "215/215 [==============================] - 5s 23ms/step - loss: 0.2060 - accuracy: 0.9217 - val_loss: 0.3088 - val_accuracy: 0.8934\n",
            "Epoch 13/30\n",
            "215/215 [==============================] - 5s 23ms/step - loss: 0.1971 - accuracy: 0.9245 - val_loss: 0.3216 - val_accuracy: 0.8888\n",
            "Epoch 14/30\n",
            "215/215 [==============================] - 5s 23ms/step - loss: 0.1944 - accuracy: 0.9263 - val_loss: 0.3130 - val_accuracy: 0.8978\n",
            "Epoch 15/30\n",
            "215/215 [==============================] - 5s 23ms/step - loss: 0.1847 - accuracy: 0.9283 - val_loss: 0.3153 - val_accuracy: 0.9016\n",
            "Epoch 16/30\n",
            "215/215 [==============================] - 5s 23ms/step - loss: 0.1792 - accuracy: 0.9308 - val_loss: 0.3395 - val_accuracy: 0.8974\n",
            "Epoch 17/30\n",
            "215/215 [==============================] - 8s 36ms/step - loss: 0.1729 - accuracy: 0.9333 - val_loss: 0.3246 - val_accuracy: 0.8986\n",
            "Epoch 18/30\n",
            "215/215 [==============================] - 5s 23ms/step - loss: 0.1644 - accuracy: 0.9360 - val_loss: 0.3445 - val_accuracy: 0.8958\n",
            "Epoch 19/30\n",
            "215/215 [==============================] - 5s 23ms/step - loss: 0.1561 - accuracy: 0.9395 - val_loss: 0.3398 - val_accuracy: 0.8936\n",
            "Epoch 20/30\n",
            "215/215 [==============================] - 5s 23ms/step - loss: 0.1628 - accuracy: 0.9378 - val_loss: 0.3378 - val_accuracy: 0.9000\n",
            "Epoch 21/30\n",
            "215/215 [==============================] - 5s 23ms/step - loss: 0.1516 - accuracy: 0.9421 - val_loss: 0.3341 - val_accuracy: 0.8992\n",
            "Epoch 22/30\n",
            "215/215 [==============================] - 5s 23ms/step - loss: 0.1451 - accuracy: 0.9431 - val_loss: 0.3738 - val_accuracy: 0.8964\n",
            "Epoch 23/30\n",
            "215/215 [==============================] - 5s 23ms/step - loss: 0.1429 - accuracy: 0.9453 - val_loss: 0.3361 - val_accuracy: 0.9046\n",
            "Epoch 24/30\n",
            "215/215 [==============================] - 5s 23ms/step - loss: 0.1328 - accuracy: 0.9484 - val_loss: 0.3654 - val_accuracy: 0.8988\n",
            "Epoch 25/30\n",
            "215/215 [==============================] - 5s 23ms/step - loss: 0.1289 - accuracy: 0.9492 - val_loss: 0.3856 - val_accuracy: 0.9034\n",
            "Epoch 26/30\n",
            "215/215 [==============================] - 5s 23ms/step - loss: 0.1242 - accuracy: 0.9510 - val_loss: 0.3962 - val_accuracy: 0.8874\n",
            "Epoch 27/30\n",
            "215/215 [==============================] - 5s 24ms/step - loss: 0.1302 - accuracy: 0.9495 - val_loss: 0.3724 - val_accuracy: 0.9006\n",
            "Epoch 28/30\n",
            "215/215 [==============================] - 5s 24ms/step - loss: 0.1206 - accuracy: 0.9523 - val_loss: 0.3752 - val_accuracy: 0.8952\n",
            "Epoch 29/30\n",
            "215/215 [==============================] - 5s 24ms/step - loss: 0.1194 - accuracy: 0.9531 - val_loss: 0.3931 - val_accuracy: 0.8928\n",
            "Epoch 30/30\n",
            "215/215 [==============================] - 5s 23ms/step - loss: 0.1127 - accuracy: 0.9569 - val_loss: 0.4153 - val_accuracy: 0.8970\n"
          ]
        }
      ],
      "source": [
        "# Compilamos el modelo\n",
        "model_2.compile(loss = \"categorical_crossentropy\", optimizer = \"adam\", metrics = [\"accuracy\"])\n",
        "\n",
        "# Definimos el tamaño de cada batch\n",
        "batch_size = 256\n",
        "\n",
        "# Definimos la cantidad de épocas de entrenamiento\n",
        "epochs = 30\n",
        "\n",
        "# Ajustamos el modelo\n",
        "history_2 = model_2.fit(X_train, y_train, validation_data = (X_valid, y_valid), epochs = epochs, batch_size = batch_size)"
      ]
    },
    {
      "cell_type": "markdown",
      "metadata": {
        "id": "9QCmlwVZmeKO"
      },
      "source": [
        "A simple vista se nota que mejoró la red, pero grafiquemos para ver qué está pasando."
      ]
    },
    {
      "cell_type": "code",
      "execution_count": null,
      "metadata": {
        "colab": {
          "base_uri": "https://localhost:8080/",
          "height": 623
        },
        "id": "3AN6CVJdmokg",
        "outputId": "18e74e28-6c08-4353-9a01-aa34e3a75eea"
      },
      "outputs": [
        {
          "data": {
            "image/png": "[encoded data removed]",
            "text/plain": [
              "<Figure size 720x720 with 2 Axes>"
            ]
          },
          "metadata": {
            "needs_background": "light"
          },
          "output_type": "display_data"
        }
      ],
      "source": [
        "# Graficamos el segundo modelo\n",
        "plot_history(history_2)"
      ]
    },
    {
      "cell_type": "markdown",
      "metadata": {
        "id": "jq40Uwj-mu3T"
      },
      "source": [
        "Se nota que las rectas no están muy juntas, lo que significa que nuestra red no está pudiendo generalizar muy bien. ¿Cómo podríamos arreglar esto sin tener que sacrificar los buenos resultados obtenidos?"
      ]
    },
    {
      "cell_type": "markdown",
      "metadata": {
        "id": "xWQ30aWqnET_"
      },
      "source": [
        "## Dropout: \n",
        "\n",
        "El dropout consiste básicamente en ir quitando una cierta cantidad de neuronas aleatoriamente con cierta probabilidad en cada iteración.\n",
        "\n",
        "Por lo tanto ahora aplicaremos capas de dropout a cada capa de la red anterior para ver si mejora.\n",
        "\n",
        "<img src=\"https://miro.medium.com/max/1044/1*iWQzxhVlvadk6VAJjsgXgg.png\">"
      ]
    },
    {
      "cell_type": "code",
      "execution_count": null,
      "metadata": {
        "colab": {
          "base_uri": "https://localhost:8080/"
        },
        "id": "l2SebGmtnDnJ",
        "outputId": "268fe7a0-fd3d-4532-f4d3-cfbfe2677772"
      },
      "outputs": [
        {
          "name": "stdout",
          "output_type": "stream",
          "text": [
            "Model: \"sequential_13\"\n",
            "_________________________________________________________________\n",
            " Layer (type)                Output Shape              Param #   \n",
            "=================================================================\n",
            " flatten_13 (Flatten)        (None, 784)               0         \n",
            "                                                                 \n",
            " dense_45 (Dense)            (None, 300)               235500    \n",
            "                                                                 \n",
            " activation_30 (Activation)  (None, 300)               0         \n",
            "                                                                 \n",
            " dropout_4 (Dropout)         (None, 300)               0         \n",
            "                                                                 \n",
            " dense_46 (Dense)            (None, 300)               90300     \n",
            "                                                                 \n",
            " activation_31 (Activation)  (None, 300)               0         \n",
            "                                                                 \n",
            " dropout_5 (Dropout)         (None, 300)               0         \n",
            "                                                                 \n",
            " dense_47 (Dense)            (None, 300)               90300     \n",
            "                                                                 \n",
            " activation_32 (Activation)  (None, 300)               0         \n",
            "                                                                 \n",
            " dropout_6 (Dropout)         (None, 300)               0         \n",
            "                                                                 \n",
            " dense_48 (Dense)            (None, 500)               150500    \n",
            "                                                                 \n",
            " activation_33 (Activation)  (None, 500)               0         \n",
            "                                                                 \n",
            " dropout_7 (Dropout)         (None, 500)               0         \n",
            "                                                                 \n",
            " dense_49 (Dense)            (None, 10)                5010      \n",
            "                                                                 \n",
            " activation_34 (Activation)  (None, 10)                0         \n",
            "                                                                 \n",
            "=================================================================\n",
            "Total params: 571,610\n",
            "Trainable params: 571,610\n",
            "Non-trainable params: 0\n",
            "_________________________________________________________________\n"
          ]
        }
      ],
      "source": [
        "# Creamos una red con 10 capas y con dropout de 0.3 en cada una:\n",
        "\n",
        "# Primero debemos definir el modelo\n",
        "model_3 = Sequential()\n",
        "\n",
        "# Agregamos la primera capa (input layer).\n",
        "model_3.add(Flatten(input_shape = [28, 28]))\n",
        "\n",
        "# Primera hidden layer:\n",
        "model_3.add(Dense(300))\n",
        "model_3.add(Activation(\"relu\"))\n",
        "model_3.add(Dropout(0.3))\n",
        "\n",
        "# Segunda hidden layer:\n",
        "model_3.add(Dense(300))\n",
        "model_3.add(Activation(\"relu\"))\n",
        "model_3.add(Dropout(0.3))\n",
        "\n",
        "# Tercera hidden layer:\n",
        "model_3.add(Dense(300))\n",
        "model_3.add(Activation(\"relu\"))\n",
        "model_3.add(Dropout(0.3))\n",
        "\n",
        "# Cuarta hidden layer:\n",
        "model_3.add(Dense(500))\n",
        "model_3.add(Activation(\"relu\"))\n",
        "model_3.add(Dropout(0.3))\n",
        "\n",
        "# Capa de output:\n",
        "model_3.add(Dense(10))\n",
        "model_3.add(Activation(\"softmax\"))\n",
        "\n",
        "# Mostramos un resumen del modelo\n",
        "model_3.summary() "
      ]
    },
    {
      "cell_type": "code",
      "execution_count": null,
      "metadata": {
        "colab": {
          "base_uri": "https://localhost:8080/"
        },
        "id": "17iSiBJZqG98",
        "outputId": "5ba074fa-7704-4f1d-9e7b-bb0705b3e5e0"
      },
      "outputs": [
        {
          "name": "stdout",
          "output_type": "stream",
          "text": [
            "Epoch 1/30\n",
            "215/215 [==============================] - 8s 33ms/step - loss: 0.6978 - accuracy: 0.7453 - val_loss: 0.4102 - val_accuracy: 0.8536\n",
            "Epoch 2/30\n",
            "215/215 [==============================] - 8s 35ms/step - loss: 0.4537 - accuracy: 0.8382 - val_loss: 0.3602 - val_accuracy: 0.8690\n",
            "Epoch 3/30\n",
            "215/215 [==============================] - 6s 29ms/step - loss: 0.4110 - accuracy: 0.8523 - val_loss: 0.3365 - val_accuracy: 0.8754\n",
            "Epoch 4/30\n",
            "215/215 [==============================] - 6s 29ms/step - loss: 0.3877 - accuracy: 0.8610 - val_loss: 0.3410 - val_accuracy: 0.8746\n",
            "Epoch 5/30\n",
            "215/215 [==============================] - 6s 29ms/step - loss: 0.3669 - accuracy: 0.8675 - val_loss: 0.3242 - val_accuracy: 0.8790\n",
            "Epoch 6/30\n",
            "215/215 [==============================] - 9s 41ms/step - loss: 0.3604 - accuracy: 0.8678 - val_loss: 0.3220 - val_accuracy: 0.8798\n",
            "Epoch 7/30\n",
            "215/215 [==============================] - 6s 29ms/step - loss: 0.3423 - accuracy: 0.8753 - val_loss: 0.3168 - val_accuracy: 0.8838\n",
            "Epoch 8/30\n",
            "215/215 [==============================] - 6s 29ms/step - loss: 0.3307 - accuracy: 0.8780 - val_loss: 0.3138 - val_accuracy: 0.8876\n",
            "Epoch 9/30\n",
            "215/215 [==============================] - 6s 29ms/step - loss: 0.3291 - accuracy: 0.8789 - val_loss: 0.3166 - val_accuracy: 0.8868\n",
            "Epoch 10/30\n",
            "215/215 [==============================] - 6s 29ms/step - loss: 0.3245 - accuracy: 0.8793 - val_loss: 0.3264 - val_accuracy: 0.8790\n",
            "Epoch 11/30\n",
            "215/215 [==============================] - 6s 29ms/step - loss: 0.3170 - accuracy: 0.8829 - val_loss: 0.3005 - val_accuracy: 0.8924\n",
            "Epoch 12/30\n",
            "215/215 [==============================] - 6s 29ms/step - loss: 0.3058 - accuracy: 0.8878 - val_loss: 0.3003 - val_accuracy: 0.8898\n",
            "Epoch 13/30\n",
            "215/215 [==============================] - 6s 29ms/step - loss: 0.3004 - accuracy: 0.8887 - val_loss: 0.2979 - val_accuracy: 0.8896\n",
            "Epoch 14/30\n",
            "215/215 [==============================] - 6s 29ms/step - loss: 0.2967 - accuracy: 0.8901 - val_loss: 0.3102 - val_accuracy: 0.8854\n",
            "Epoch 15/30\n",
            "215/215 [==============================] - 6s 29ms/step - loss: 0.2910 - accuracy: 0.8927 - val_loss: 0.3010 - val_accuracy: 0.8910\n",
            "Epoch 16/30\n",
            "215/215 [==============================] - 6s 29ms/step - loss: 0.2863 - accuracy: 0.8938 - val_loss: 0.2848 - val_accuracy: 0.8970\n",
            "Epoch 17/30\n",
            "215/215 [==============================] - 6s 29ms/step - loss: 0.2825 - accuracy: 0.8949 - val_loss: 0.2943 - val_accuracy: 0.8900\n",
            "Epoch 18/30\n",
            "215/215 [==============================] - 6s 29ms/step - loss: 0.2797 - accuracy: 0.8959 - val_loss: 0.2865 - val_accuracy: 0.8950\n",
            "Epoch 19/30\n",
            "215/215 [==============================] - 6s 29ms/step - loss: 0.2788 - accuracy: 0.8967 - val_loss: 0.2900 - val_accuracy: 0.8924\n",
            "Epoch 20/30\n",
            "215/215 [==============================] - 6s 29ms/step - loss: 0.2752 - accuracy: 0.8980 - val_loss: 0.2852 - val_accuracy: 0.8936\n",
            "Epoch 21/30\n",
            "215/215 [==============================] - 6s 29ms/step - loss: 0.2689 - accuracy: 0.8998 - val_loss: 0.2801 - val_accuracy: 0.8982\n",
            "Epoch 22/30\n",
            "215/215 [==============================] - 6s 29ms/step - loss: 0.2682 - accuracy: 0.9005 - val_loss: 0.2924 - val_accuracy: 0.8942\n",
            "Epoch 23/30\n",
            "215/215 [==============================] - 6s 29ms/step - loss: 0.2610 - accuracy: 0.9041 - val_loss: 0.2858 - val_accuracy: 0.8996\n",
            "Epoch 24/30\n",
            "215/215 [==============================] - 6s 29ms/step - loss: 0.2639 - accuracy: 0.9022 - val_loss: 0.2809 - val_accuracy: 0.8950\n",
            "Epoch 25/30\n",
            "215/215 [==============================] - 6s 29ms/step - loss: 0.2592 - accuracy: 0.9030 - val_loss: 0.2922 - val_accuracy: 0.8932\n",
            "Epoch 26/30\n",
            "215/215 [==============================] - 6s 29ms/step - loss: 0.2570 - accuracy: 0.9045 - val_loss: 0.2863 - val_accuracy: 0.8966\n",
            "Epoch 27/30\n",
            "215/215 [==============================] - 6s 29ms/step - loss: 0.2519 - accuracy: 0.9053 - val_loss: 0.2909 - val_accuracy: 0.8934\n",
            "Epoch 28/30\n",
            "215/215 [==============================] - 6s 29ms/step - loss: 0.2563 - accuracy: 0.9053 - val_loss: 0.2742 - val_accuracy: 0.8976\n",
            "Epoch 29/30\n",
            "215/215 [==============================] - 6s 29ms/step - loss: 0.2513 - accuracy: 0.9073 - val_loss: 0.2919 - val_accuracy: 0.8958\n",
            "Epoch 30/30\n",
            "215/215 [==============================] - 6s 29ms/step - loss: 0.2477 - accuracy: 0.9087 - val_loss: 0.2754 - val_accuracy: 0.9020\n"
          ]
        }
      ],
      "source": [
        "# Compilamos el modelo\n",
        "model_3.compile(loss = \"categorical_crossentropy\", optimizer = \"adam\", metrics = [\"accuracy\"])\n",
        "\n",
        "# Definimos el tamaño de cada batch\n",
        "batch_size = 256\n",
        "\n",
        "# Definimos la cantidad de épocas de entrenamiento\n",
        "epochs = 30\n",
        "\n",
        "# Ajustamos el modelo\n",
        "history_3 = model_3.fit(X_train, y_train, validation_data = (X_valid, y_valid), epochs = epochs, batch_size = batch_size)"
      ]
    },
    {
      "cell_type": "markdown",
      "metadata": {
        "id": "BetkNEQdr58B"
      },
      "source": [
        "Ahora si podemos ver que está bastante mejor."
      ]
    },
    {
      "cell_type": "code",
      "execution_count": null,
      "metadata": {
        "colab": {
          "base_uri": "https://localhost:8080/",
          "height": 623
        },
        "id": "GJnaoL0zr5KW",
        "outputId": "dd87b77a-b2a0-4106-8d3b-1b602a46be89"
      },
      "outputs": [
        {
          "data": {
            "image/png": "[encoded data removed]",
            "text/plain": [
              "<Figure size 720x720 with 2 Axes>"
            ]
          },
          "metadata": {
            "needs_background": "light"
          },
          "output_type": "display_data"
        }
      ],
      "source": [
        "# Graficamos el segundo modelo\n",
        "plot_history(history_3)"
      ]
    },
    {
      "cell_type": "markdown",
      "metadata": {
        "id": "XxL0S1AssSqP"
      },
      "source": [
        "### **Accuracy del set de testeo**:"
      ]
    },
    {
      "cell_type": "code",
      "execution_count": null,
      "metadata": {
        "colab": {
          "base_uri": "https://localhost:8080/"
        },
        "id": "vtVH38J3sWra",
        "outputId": "3fe93296-e523-45fb-ed5a-cdebbdd9e178"
      },
      "outputs": [
        {
          "name": "stdout",
          "output_type": "stream",
          "text": [
            "\n",
            "El accuracy que se obtuvo en el set de test fue de: 89.41%\n",
            "\n"
          ]
        }
      ],
      "source": [
        "# Mostramos el accuracy que obtuvo nuestra base de testeo (con el primer modelo)\n",
        "_, accuracy_test = model_2.evaluate(X_test, y_test, verbose = 0)\n",
        "\n",
        "print(f\"\\nEl accuracy que se obtuvo en el set de test fue de: %.2f%%\\n\" % (100 * accuracy_test))"
      ]
    },
    {
      "cell_type": "markdown",
      "metadata": {
        "id": "8xUuO6WZs91G"
      },
      "source": [
        "## **Callbacks**:\n",
        "\n",
        "Generalmente el entrenamiento es muy lento y puede llegar a demorar muchas horas, lo bueno es que keras tiene funciones que nos sirven para guardar checkpoints en el entrenamiento y muchas otras cosas más. Hay muchos de estos, por lo que si quieren ver más pueden ir a [este link](https://www.tensorflow.org/api_docs/python/tf/keras/callbacks).\n",
        "\n",
        "<img src=\"data:image/png;base64,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\">"
      ]
    },
    {
      "cell_type": "markdown",
      "metadata": {
        "id": "NYjHM8UiwPv5"
      },
      "source": [
        "### **Early Stopping**:\n",
        "\n",
        "Este callback lo usaremos para dejar de entrenar cuando se deje de mejorar por una cierta cantidad de épocas. En el código de abajo lo que hacemos es decirle al entrenamiento que si llevamos 3 épocas sin mejoras, entonces que deje de entrenar."
      ]
    },
    {
      "cell_type": "code",
      "execution_count": null,
      "metadata": {
        "colab": {
          "base_uri": "https://localhost:8080/"
        },
        "id": "OZ4-HrRHvhU6",
        "outputId": "1d9ed0c3-b02e-404f-c144-0492a5801f25"
      },
      "outputs": [
        {
          "name": "stdout",
          "output_type": "stream",
          "text": [
            "Epoch 1/30\n",
            "215/215 [==============================] - 3s 12ms/step - loss: 0.4323 - accuracy: 0.8491 - val_loss: 0.3861 - val_accuracy: 0.8648\n",
            "Epoch 2/30\n",
            "215/215 [==============================] - 2s 11ms/step - loss: 0.3581 - accuracy: 0.8718 - val_loss: 0.3563 - val_accuracy: 0.8724\n",
            "Epoch 3/30\n",
            "215/215 [==============================] - 2s 11ms/step - loss: 0.3344 - accuracy: 0.8787 - val_loss: 0.3229 - val_accuracy: 0.8868\n",
            "Epoch 4/30\n",
            "215/215 [==============================] - 2s 11ms/step - loss: 0.3068 - accuracy: 0.8884 - val_loss: 0.3763 - val_accuracy: 0.8618\n",
            "Epoch 5/30\n",
            "215/215 [==============================] - 2s 11ms/step - loss: 0.2893 - accuracy: 0.8931 - val_loss: 0.3099 - val_accuracy: 0.8870\n",
            "Epoch 6/30\n",
            "215/215 [==============================] - 2s 11ms/step - loss: 0.2747 - accuracy: 0.8981 - val_loss: 0.3379 - val_accuracy: 0.8760\n",
            "Epoch 7/30\n",
            "215/215 [==============================] - 2s 11ms/step - loss: 0.2621 - accuracy: 0.9026 - val_loss: 0.2969 - val_accuracy: 0.8954\n",
            "Epoch 8/30\n",
            "215/215 [==============================] - 2s 11ms/step - loss: 0.2490 - accuracy: 0.9072 - val_loss: 0.3136 - val_accuracy: 0.8872\n",
            "Epoch 9/30\n",
            "215/215 [==============================] - 2s 11ms/step - loss: 0.2370 - accuracy: 0.9129 - val_loss: 0.2863 - val_accuracy: 0.8984\n",
            "Epoch 10/30\n",
            "215/215 [==============================] - 2s 11ms/step - loss: 0.2335 - accuracy: 0.9128 - val_loss: 0.2965 - val_accuracy: 0.8940\n",
            "Epoch 11/30\n",
            "215/215 [==============================] - 2s 11ms/step - loss: 0.2233 - accuracy: 0.9169 - val_loss: 0.2927 - val_accuracy: 0.8968\n"
          ]
        }
      ],
      "source": [
        "# Definimos el EarlyStopping\n",
        "early_stopping = EarlyStopping(patience = 3, monitor = \"val_accuracy\", restore_best_weights = True)\n",
        "\n",
        "# Volvemos a compilar el primer modelo\n",
        "model.compile(loss = \"categorical_crossentropy\", optimizer = \"adam\", metrics = [\"accuracy\"])\n",
        "\n",
        "# Definimos el tamaño de cada batch\n",
        "batch_size = 256\n",
        "\n",
        "# Definimos la cantidad de épocas de entrenamiento\n",
        "epochs = 30\n",
        "\n",
        "# Ajustamos el modelo\n",
        "history = model.fit(X_train, y_train, validation_data = (X_valid, y_valid), epochs = epochs, batch_size = batch_size, callbacks = [early_stopping])"
      ]
    },
    {
      "cell_type": "markdown",
      "metadata": {
        "id": "NGdgPGFA0y76"
      },
      "source": [
        "No hizo todas las épocas porque hubo el accuracy en la base de validación dejó de mejorar por 2 épocas. Este es un ejemplo básico, pero utilizando los callbacks podrán ahorrarse mucho tiempo de entrenamiento innecesario."
      ]
    },
    {
      "cell_type": "code",
      "execution_count": null,
      "metadata": {
        "colab": {
          "base_uri": "https://localhost:8080/",
          "height": 394
        },
        "id": "T9IfK9ky0wmf",
        "outputId": "22b711b6-9b68-44a3-8b2d-886003156e23"
      },
      "outputs": [
        {
          "data": {
            "text/html": [
              "\n",
              "  <div id=\"df-6e039d1a-8b97-4aab-a5af-21e2a7b956ec\">\n",
              "    <div class=\"colab-df-container\">\n",
              "      <div>\n",
              "<style scoped>\n",
              "    .dataframe tbody tr th:only-of-type {\n",
              "        vertical-align: middle;\n",
              "    }\n",
              "\n",
              "    .dataframe tbody tr th {\n",
              "        vertical-align: top;\n",
              "    }\n",
              "\n",
              "    .dataframe thead th {\n",
              "        text-align: right;\n",
              "    }\n",
              "</style>\n",
              "<table border=\"1\" class=\"dataframe\">\n",
              "  <thead>\n",
              "    <tr style=\"text-align: right;\">\n",
              "      <th></th>\n",
              "      <th>Loss entrenamiento</th>\n",
              "      <th>Loss validación</th>\n",
              "      <th>Accuracy entrenamiento</th>\n",
              "      <th>Accuracy validación</th>\n",
              "    </tr>\n",
              "  </thead>\n",
              "  <tbody>\n",
              "    <tr>\n",
              "      <th>0</th>\n",
              "      <td>0.432313</td>\n",
              "      <td>0.386096</td>\n",
              "      <td>0.849127</td>\n",
              "      <td>0.8648</td>\n",
              "    </tr>\n",
              "    <tr>\n",
              "      <th>1</th>\n",
              "      <td>0.358096</td>\n",
              "      <td>0.356316</td>\n",
              "      <td>0.871782</td>\n",
              "      <td>0.8724</td>\n",
              "    </tr>\n",
              "    <tr>\n",
              "      <th>2</th>\n",
              "      <td>0.334374</td>\n",
              "      <td>0.322937</td>\n",
              "      <td>0.878691</td>\n",
              "      <td>0.8868</td>\n",
              "    </tr>\n",
              "    <tr>\n",
              "      <th>3</th>\n",
              "      <td>0.306836</td>\n",
              "      <td>0.376327</td>\n",
              "      <td>0.888400</td>\n",
              "      <td>0.8618</td>\n",
              "    </tr>\n",
              "    <tr>\n",
              "      <th>4</th>\n",
              "      <td>0.289340</td>\n",
              "      <td>0.309923</td>\n",
              "      <td>0.893145</td>\n",
              "      <td>0.8870</td>\n",
              "    </tr>\n",
              "    <tr>\n",
              "      <th>5</th>\n",
              "      <td>0.274700</td>\n",
              "      <td>0.337918</td>\n",
              "      <td>0.898091</td>\n",
              "      <td>0.8760</td>\n",
              "    </tr>\n",
              "    <tr>\n",
              "      <th>6</th>\n",
              "      <td>0.262124</td>\n",
              "      <td>0.296855</td>\n",
              "      <td>0.902636</td>\n",
              "      <td>0.8954</td>\n",
              "    </tr>\n",
              "    <tr>\n",
              "      <th>7</th>\n",
              "      <td>0.248978</td>\n",
              "      <td>0.313561</td>\n",
              "      <td>0.907200</td>\n",
              "      <td>0.8872</td>\n",
              "    </tr>\n",
              "    <tr>\n",
              "      <th>8</th>\n",
              "      <td>0.236962</td>\n",
              "      <td>0.286346</td>\n",
              "      <td>0.912873</td>\n",
              "      <td>0.8984</td>\n",
              "    </tr>\n",
              "    <tr>\n",
              "      <th>9</th>\n",
              "      <td>0.233546</td>\n",
              "      <td>0.296526</td>\n",
              "      <td>0.912836</td>\n",
              "      <td>0.8940</td>\n",
              "    </tr>\n",
              "    <tr>\n",
              "      <th>10</th>\n",
              "      <td>0.223308</td>\n",
              "      <td>0.292711</td>\n",
              "      <td>0.916873</td>\n",
              "      <td>0.8968</td>\n",
              "    </tr>\n",
              "  </tbody>\n",
              "</table>\n",
              "</div>\n",
              "      <button class=\"colab-df-convert\" onclick=\"convertToInteractive('df-6e039d1a-8b97-4aab-a5af-21e2a7b956ec')\"\n",
              "              title=\"Convert this dataframe to an interactive table.\"\n",
              "              style=\"display:none;\">\n",
              "        \n",
              "  <svg xmlns=\"http://www.w3.org/2000/svg\" height=\"24px\"viewBox=\"0 0 24 24\"\n",
              "       width=\"24px\">\n",
              "    <path d=\"M0 0h24v24H0V0z\" fill=\"none\"/>\n",
              "    <path d=\"M18.56 5.44l.94 2.06.94-2.06 2.06-.94-2.06-.94-.94-2.06-.94 2.06-2.06.94zm-11 1L8.5 8.5l.94-2.06 2.06-.94-2.06-.94L8.5 2.5l-.94 2.06-2.06.94zm10 10l.94 2.06.94-2.06 2.06-.94-2.06-.94-.94-2.06-.94 2.06-2.06.94z\"/><path d=\"M17.41 7.96l-1.37-1.37c-.4-.4-.92-.59-1.43-.59-.52 0-1.04.2-1.43.59L10.3 9.45l-7.72 7.72c-.78.78-.78 2.05 0 2.83L4 21.41c.39.39.9.59 1.41.59.51 0 1.02-.2 1.41-.59l7.78-7.78 2.81-2.81c.8-.78.8-2.07 0-2.86zM5.41 20L4 18.59l7.72-7.72 1.47 1.35L5.41 20z\"/>\n",
              "  </svg>\n",
              "      </button>\n",
              "      \n",
              "  <style>\n",
              "    .colab-df-container {\n",
              "      display:flex;\n",
              "      flex-wrap:wrap;\n",
              "      gap: 12px;\n",
              "    }\n",
              "\n",
              "    .colab-df-convert {\n",
              "      background-color: #E8F0FE;\n",
              "      border: none;\n",
              "      border-radius: 50%;\n",
              "      cursor: pointer;\n",
              "      display: none;\n",
              "      fill: #1967D2;\n",
              "      height: 32px;\n",
              "      padding: 0 0 0 0;\n",
              "      width: 32px;\n",
              "    }\n",
              "\n",
              "    .colab-df-convert:hover {\n",
              "      background-color: #E2EBFA;\n",
              "      box-shadow: 0px 1px 2px rgba(60, 64, 67, 0.3), 0px 1px 3px 1px rgba(60, 64, 67, 0.15);\n",
              "      fill: #174EA6;\n",
              "    }\n",
              "\n",
              "    [theme=dark] .colab-df-convert {\n",
              "      background-color: #3B4455;\n",
              "      fill: #D2E3FC;\n",
              "    }\n",
              "\n",
              "    [theme=dark] .colab-df-convert:hover {\n",
              "      background-color: #434B5C;\n",
              "      box-shadow: 0px 1px 3px 1px rgba(0, 0, 0, 0.15);\n",
              "      filter: drop-shadow(0px 1px 2px rgba(0, 0, 0, 0.3));\n",
              "      fill: #FFFFFF;\n",
              "    }\n",
              "  </style>\n",
              "\n",
              "      <script>\n",
              "        const buttonEl =\n",
              "          document.querySelector('#df-6e039d1a-8b97-4aab-a5af-21e2a7b956ec button.colab-df-convert');\n",
              "        buttonEl.style.display =\n",
              "          google.colab.kernel.accessAllowed ? 'block' : 'none';\n",
              "\n",
              "        async function convertToInteractive(key) {\n",
              "          const element = document.querySelector('#df-6e039d1a-8b97-4aab-a5af-21e2a7b956ec');\n",
              "          const dataTable =\n",
              "            await google.colab.kernel.invokeFunction('convertToInteractive',\n",
              "                                                     [key], {});\n",
              "          if (!dataTable) return;\n",
              "\n",
              "          const docLinkHtml = 'Like what you see? Visit the ' +\n",
              "            '<a target=\"_blank\" href=https://colab.research.google.com/notebooks/data_table.ipynb>data table notebook</a>'\n",
              "            + ' to learn more about interactive tables.';\n",
              "          element.innerHTML = '';\n",
              "          dataTable['output_type'] = 'display_data';\n",
              "          await google.colab.output.renderOutput(dataTable, element);\n",
              "          const docLink = document.createElement('div');\n",
              "          docLink.innerHTML = docLinkHtml;\n",
              "          element.appendChild(docLink);\n",
              "        }\n",
              "      </script>\n",
              "    </div>\n",
              "  </div>\n",
              "  "
            ],
            "text/plain": [
              "    Loss entrenamiento  Loss validación  Accuracy entrenamiento  \\\n",
              "0             0.432313         0.386096                0.849127   \n",
              "1             0.358096         0.356316                0.871782   \n",
              "2             0.334374         0.322937                0.878691   \n",
              "3             0.306836         0.376327                0.888400   \n",
              "4             0.289340         0.309923                0.893145   \n",
              "5             0.274700         0.337918                0.898091   \n",
              "6             0.262124         0.296855                0.902636   \n",
              "7             0.248978         0.313561                0.907200   \n",
              "8             0.236962         0.286346                0.912873   \n",
              "9             0.233546         0.296526                0.912836   \n",
              "10            0.223308         0.292711                0.916873   \n",
              "\n",
              "    Accuracy validación  \n",
              "0                0.8648  \n",
              "1                0.8724  \n",
              "2                0.8868  \n",
              "3                0.8618  \n",
              "4                0.8870  \n",
              "5                0.8760  \n",
              "6                0.8954  \n",
              "7                0.8872  \n",
              "8                0.8984  \n",
              "9                0.8940  \n",
              "10               0.8968  "
            ]
          },
          "execution_count": 95,
          "metadata": {},
          "output_type": "execute_result"
        }
      ],
      "source": [
        "# Si quisieramos las métricas obtenidas de un entrenamiento en cada época podríamos hacer lo siguiente\n",
        "pd.DataFrame({\"Loss entrenamiento\": history.history[\"loss\"],\n",
        "              \"Loss validación\": history.history[\"val_loss\"],\n",
        "              \"Accuracy entrenamiento\": history.history[\"accuracy\"],\n",
        "              \"Accuracy validación\": history.history[\"val_accuracy\"]})"
      ]
    },
    {
      "cell_type": "markdown",
      "metadata": {
        "id": "j80VJp2-02fM"
      },
      "source": [
        "Esperamos que les haya servido, mucho éxito en la tarea y lo que queda de semestre!"
      ]
    }
  ],
  "metadata": {
    "colab": {
      "collapsed_sections": [],
      "provenance": []
    },
    "kernelspec": {
      "display_name": "Python 3",
      "name": "python3"
    },
    "language_info": {
      "name": "python"
    }
  },
  "nbformat": 4,
  "nbformat_minor": 0
}
